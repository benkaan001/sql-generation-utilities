{
 "cells": [
  {
   "cell_type": "code",
   "execution_count": 1,
   "id": "a00328b6",
   "metadata": {},
   "outputs": [
    {
     "name": "stdout",
     "output_type": "stream",
     "text": [
      "['FINANCE_DW.TGL_ACCOUNT_DIM', ',FINANCE_DW.TGL_JOURNAL_ENTRY_FACT', ',SALES_MART.TCUSTOMER_MASTER', ',SALES_MART.TSALES_ORDER_HEADER', ',SALES_MART.TSALES_ORDER_DETAIL', 'OPERATIONS_STG.TSHIPMENT_STATUS_RAW', 'OPERATIONS_STG.TINVENTORY_LEVEL_SNAPSHOT', ',HR_RAW.TEMPL_PROFILE_CURRENT', ',HR_RAW.TEMPL_PAYROLL_HISTORY', ',MARKETING_ANALYSIS.TCAMPAIGN_PERFORMANCE_AGG', ',MARKETING_ANALYSIS.TWEB_CLICKSTREAM_SESSION', ',SUPPLYCHAIN_DW.TVENDOR_DIM', ',SUPPLYCHAIN_DW.TPURCHASE_ORDER_FACT']\n"
     ]
    }
   ],
   "source": [
    "import os\n",
    "input_path = 'sample_data/sample_generic_table_list.txt'\n",
    "\n",
    "with open(input_path, 'r') as file:\n",
    "    table_list = file.read().split('\\n')\n",
    "\n",
    "print(table_list)"
   ]
  },
  {
   "cell_type": "code",
   "execution_count": 2,
   "id": "5bca2c3f",
   "metadata": {},
   "outputs": [
    {
     "data": {
      "text/plain": [
       "['MARKETING_ANALYSIS.TWEB_CLICKSTREAM_SESSION',\n",
       " 'SUPPLYCHAIN_DW.TVENDOR_DIM',\n",
       " 'SUPPLYCHAIN_DW.TPURCHASE_ORDER_FACT']"
      ]
     },
     "execution_count": 2,
     "metadata": {},
     "output_type": "execute_result"
    }
   ],
   "source": [
    "table_list = [table.lstrip(',') for table in table_list if table]\n",
    "table_list[-3:]"
   ]
  },
  {
   "cell_type": "markdown",
   "id": "88e9cd73",
   "metadata": {},
   "source": [
    "# Step 1: Format the table list"
   ]
  },
  {
   "cell_type": "code",
   "execution_count": 3,
   "id": "ce450501",
   "metadata": {},
   "outputs": [
    {
     "data": {
      "text/plain": [
       "['tweb_clickstream_session', 'tvendor_dim', 'tpurchase_order_fact']"
      ]
     },
     "execution_count": 3,
     "metadata": {},
     "output_type": "execute_result"
    }
   ],
   "source": [
    "formatted_table_names_list = [table.lower().split('.')[1] for table in table_list]\n",
    "formatted_table_names_list[-3:]"
   ]
  },
  {
   "cell_type": "markdown",
   "id": "207c0975",
   "metadata": {},
   "source": [
    "# Step 2: Generate Files"
   ]
  },
  {
   "cell_type": "code",
   "execution_count": 4,
   "id": "8c14d927",
   "metadata": {},
   "outputs": [
    {
     "name": "stdout",
     "output_type": "stream",
     "text": [
      "SQL files created successfully in sample_output/sql_files\n"
     ]
    }
   ],
   "source": [
    "output_directory = 'sample_output/sql_files'\n",
    "\n",
    "if not os.path.exists(output_directory):\n",
    "    os.makedirs(output_directory)\n",
    "\n",
    "for table_name in formatted_table_names_list:\n",
    "    file_name = f\"{table_name}.sql\"\n",
    "    file_path = os.path.join(output_directory, file_name)\n",
    "    with open(file_path, 'w') as file:\n",
    "        comment = \"\"\"/* This file was generated via python script. */\\n\\n\"\"\"\n",
    "        file.write(comment)\n",
    "\n",
    "        for i in range(10, 101, 10):\n",
    "            step = step = f\"\"\"/******************************************************* STEP {i} ****************************************************************/\\n\\n\"\"\"\n",
    "            file.write(step)\n",
    "\n",
    "        end = f\"\"\"/********************************************************* END *************************************************************************/\"\"\"\n",
    "        file.write(end)\n",
    "\n",
    "\n",
    "print(f\"SQL files created successfully in {output_directory}\")"
   ]
  }
 ],
 "metadata": {
  "kernelspec": {
   "display_name": ".venv",
   "language": "python",
   "name": "python3"
  },
  "language_info": {
   "codemirror_mode": {
    "name": "ipython",
    "version": 3
   },
   "file_extension": ".py",
   "mimetype": "text/x-python",
   "name": "python",
   "nbconvert_exporter": "python",
   "pygments_lexer": "ipython3",
   "version": "3.13.1"
  }
 },
 "nbformat": 4,
 "nbformat_minor": 5
}
