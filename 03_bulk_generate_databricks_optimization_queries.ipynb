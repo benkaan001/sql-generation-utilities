{
 "cells": [
  {
   "cell_type": "code",
   "execution_count": 1,
   "id": "df9a75f0",
   "metadata": {},
   "outputs": [
    {
     "name": "stdout",
     "output_type": "stream",
     "text": [
      "finance_gl_bronze.t_sap_journal_entries_raw\n",
      "finance_gl_silver.t_journal_entries_cleaned\n",
      "finance_gl_gold.t_gl_balance_monthly_agg\n",
      "sales_orders_bronze.t_crm_orders_raw\n",
      "sales_orders_silver.t_order_header_cleaned\n",
      "sales_orders_silver.t_order_details_cleaned\n",
      "sales_orders_gold.t_sales_revenue_daily_agg\n",
      "marketing_campaign_bronze.t_email_send_log_raw\n",
      "marketing_campaign_silver.t_campaign_touchpoints\n",
      "marketing_campaign_gold.t_campaign_roi_analysis\n",
      "inventory_mgmt_bronze.t_wms_stock_levels_raw\n",
      "inventory_mgmt_silver.t_inventory_snapshot_daily\n"
     ]
    }
   ],
   "source": [
    "import os\n",
    "file_path = 'sample_data/sample_databricks_table_list.txt'\n",
    "\n",
    "with open(file_path, 'r') as file:\n",
    "    table_list = file.read().split('\\n')\n",
    "\n",
    "for table in table_list:\n",
    "    print(table)"
   ]
  },
  {
   "cell_type": "code",
   "execution_count": 2,
   "id": "6e285add",
   "metadata": {},
   "outputs": [
    {
     "name": "stdout",
     "output_type": "stream",
     "text": [
      "azure_schema = 'finance_gl_bronze'\n",
      " azure_table = 't_sap_journal_entries_raw'\n",
      "query = \"insert into system_info.t_optimize_nonpartition_table_list(\\ntbl_name,tbl_schema,ignore_partition,zorder_col,run_freq,rec_strt_ts,rec_end_ts,rec_flg,run_parallel_flg,non_partition_tables) values('t_sap_journal_entries_raw','finance_gl_bronze','Y','','daily',current_timestamp(),'9999-12-31T00:00:00.000-0600','Y','Y','group1');\"\n"
     ]
    }
   ],
   "source": [
    "for table in table_list:\n",
    "    azure_schema, azure_table = table.split('.')\n",
    "    print(f\"{azure_schema = }\\n {azure_table = }\")\n",
    "    query = f\"\"\"insert into system_info.t_optimize_nonpartition_table_list(\n",
    "tbl_name,tbl_schema,ignore_partition,zorder_col,run_freq,rec_strt_ts,rec_end_ts,rec_flg,run_parallel_flg,non_partition_tables) values('{azure_table}','{azure_schema}','Y','','daily',current_timestamp(),'9999-12-31T00:00:00.000-0600','Y','Y','group1');\"\"\"\n",
    "    print(f\"{query = }\")\n",
    "    break"
   ]
  },
  {
   "cell_type": "code",
   "execution_count": 3,
   "id": "57ce9f3f",
   "metadata": {},
   "outputs": [
    {
     "name": "stdout",
     "output_type": "stream",
     "text": [
      "SQL files created successfully in sample_output/sql_files\n"
     ]
    }
   ],
   "source": [
    "def generate_optimization_queries(file_path: str) -> None:\n",
    "    queries = []\n",
    "\n",
    "    with open(file_path, 'r') as file:\n",
    "        table_list = file.read().split('\\n')\n",
    "\n",
    "    for table in table_list:\n",
    "        azure_schema, azure_table = table.split('.')\n",
    "        query = f\"\"\"\n",
    "insert into system_info.t_optimize_nonpartition_table_list(tbl_name,tbl_schema,ignore_partition,zorder_col,run_freq,rec_strt_ts,rec_end_ts,rec_flg,run_parallel_flg,non_partition_tables) values('{azure_table}','{azure_schema}','Y','','daily',current_timestamp(), '9999-12-31T00:00:00.000-0600','Y','Y','group1');\n",
    "\"\"\"\n",
    "        queries.append(query)\n",
    "\n",
    "    try:\n",
    "        output_file = \"sample_output/databricks_optimization_queries.sql\"\n",
    "        with open(output_file, \"w\") as sql_file:\n",
    "            for query in queries:\n",
    "                sql_file.write(query + \"\\n\\n\")\n",
    "    except FileNotFoundError as e:\n",
    "        print(f\"Error: {e}\")\n",
    "    except Exception as e:\n",
    "        print(f\"An error occurred: {e}\")\n",
    "\n",
    "    print(\"SQL files created successfully in sample_output/sql_files\")\n",
    "    return\n",
    "\n",
    "file_path = 'sample_data/sample_databricks_table_list.txt'\n",
    "generate_optimization_queries(file_path)"
   ]
  }
 ],
 "metadata": {
  "kernelspec": {
   "display_name": ".venv",
   "language": "python",
   "name": "python3"
  },
  "language_info": {
   "codemirror_mode": {
    "name": "ipython",
    "version": 3
   },
   "file_extension": ".py",
   "mimetype": "text/x-python",
   "name": "python",
   "nbconvert_exporter": "python",
   "pygments_lexer": "ipython3",
   "version": "3.13.1"
  }
 },
 "nbformat": 4,
 "nbformat_minor": 5
}
